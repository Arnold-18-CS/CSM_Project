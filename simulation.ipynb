{
 "cells": [
  {
   "cell_type": "markdown",
   "id": "44eec395",
   "metadata": {},
   "source": [
    "# CSM Simulation Groupwork Project"
   ]
  },
  {
   "cell_type": "markdown",
   "id": "9e5fe33e",
   "metadata": {},
   "source": [
    "A bank operates with a single service counter. Customers arrive randomly and are served on a first-come, first-served basis. You are required to simulate this system using Python.\n",
    "\n",
    "## Assumptions\n",
    "- Inter-arrival times of customers are uniformly distributed between 1 and 8 minutes.\n",
    "- Service times are uniformly distributed between 1 and 6 minutes.\n",
    "- There is only one server (single-server queue).\n",
    "- The queuing discipline is FIFO (First-In, First-Out).\n",
    "\n",
    "## Task\n",
    "Your group is expected to:\n",
    "1. Generate inter-arrival and service times for 500 customers using the specified uniform\n",
    "distributions.\n",
    "2. Implement a Python simulation of the system using a discrete-event simulation approach.\n",
    "3. Compute and report performance metrics.\n",
    "4. Produce relevant visualizations."
   ]
  },
  {
   "cell_type": "markdown",
   "id": "0660a5a2",
   "metadata": {
    "vscode": {
     "languageId": "powershell"
    }
   },
   "source": [
    "## Setup\n",
    "Create an environment and activate by running\n",
    " ```bash\n",
    " python -m venv venv\n",
    " venv\\Scripts\\activate\n",
    " pip install ipykernel\n",
    " ```\n",
    "\n",
    "Then install the packages by running the command below:"
   ]
  },
  {
   "cell_type": "code",
   "execution_count": 81,
   "id": "6238864d",
   "metadata": {
    "vscode": {
     "languageId": "powershell"
    }
   },
   "outputs": [
    {
     "name": "stdout",
     "output_type": "stream",
     "text": [
      "Requirement already satisfied: asttokens==3.0.0 in c:\\users\\arnol\\onedrive\\documents\\school\\csm\\csm_project\\venv\\lib\\site-packages (from -r requirements.txt (line 1)) (3.0.0)\n",
      "Requirement already satisfied: colorama==0.4.6 in c:\\users\\arnol\\onedrive\\documents\\school\\csm\\csm_project\\venv\\lib\\site-packages (from -r requirements.txt (line 2)) (0.4.6)\n",
      "Requirement already satisfied: comm==0.2.2 in c:\\users\\arnol\\onedrive\\documents\\school\\csm\\csm_project\\venv\\lib\\site-packages (from -r requirements.txt (line 3)) (0.2.2)\n",
      "Requirement already satisfied: contourpy==1.3.2 in c:\\users\\arnol\\onedrive\\documents\\school\\csm\\csm_project\\venv\\lib\\site-packages (from -r requirements.txt (line 4)) (1.3.2)\n",
      "Requirement already satisfied: cycler==0.12.1 in c:\\users\\arnol\\onedrive\\documents\\school\\csm\\csm_project\\venv\\lib\\site-packages (from -r requirements.txt (line 5)) (0.12.1)\n",
      "Requirement already satisfied: debugpy==1.8.14 in c:\\users\\arnol\\onedrive\\documents\\school\\csm\\csm_project\\venv\\lib\\site-packages (from -r requirements.txt (line 6)) (1.8.14)\n",
      "Requirement already satisfied: decorator==5.2.1 in c:\\users\\arnol\\onedrive\\documents\\school\\csm\\csm_project\\venv\\lib\\site-packages (from -r requirements.txt (line 7)) (5.2.1)\n",
      "Requirement already satisfied: executing==2.2.0 in c:\\users\\arnol\\onedrive\\documents\\school\\csm\\csm_project\\venv\\lib\\site-packages (from -r requirements.txt (line 8)) (2.2.0)\n",
      "Requirement already satisfied: fonttools==4.58.5 in c:\\users\\arnol\\onedrive\\documents\\school\\csm\\csm_project\\venv\\lib\\site-packages (from -r requirements.txt (line 9)) (4.58.5)\n",
      "Requirement already satisfied: ipykernel==6.29.5 in c:\\users\\arnol\\onedrive\\documents\\school\\csm\\csm_project\\venv\\lib\\site-packages (from -r requirements.txt (line 10)) (6.29.5)\n",
      "Requirement already satisfied: ipython==9.4.0 in c:\\users\\arnol\\onedrive\\documents\\school\\csm\\csm_project\\venv\\lib\\site-packages (from -r requirements.txt (line 11)) (9.4.0)\n",
      "Requirement already satisfied: ipython_pygments_lexers==1.1.1 in c:\\users\\arnol\\onedrive\\documents\\school\\csm\\csm_project\\venv\\lib\\site-packages (from -r requirements.txt (line 12)) (1.1.1)\n",
      "Requirement already satisfied: jedi==0.19.2 in c:\\users\\arnol\\onedrive\\documents\\school\\csm\\csm_project\\venv\\lib\\site-packages (from -r requirements.txt (line 13)) (0.19.2)\n",
      "Requirement already satisfied: jupyter_client==8.6.3 in c:\\users\\arnol\\onedrive\\documents\\school\\csm\\csm_project\\venv\\lib\\site-packages (from -r requirements.txt (line 14)) (8.6.3)\n",
      "Requirement already satisfied: jupyter_core==5.8.1 in c:\\users\\arnol\\onedrive\\documents\\school\\csm\\csm_project\\venv\\lib\\site-packages (from -r requirements.txt (line 15)) (5.8.1)\n",
      "Requirement already satisfied: kiwisolver==1.4.8 in c:\\users\\arnol\\onedrive\\documents\\school\\csm\\csm_project\\venv\\lib\\site-packages (from -r requirements.txt (line 16)) (1.4.8)\n",
      "Requirement already satisfied: matplotlib==3.10.3 in c:\\users\\arnol\\onedrive\\documents\\school\\csm\\csm_project\\venv\\lib\\site-packages (from -r requirements.txt (line 17)) (3.10.3)\n",
      "Requirement already satisfied: matplotlib-inline==0.1.7 in c:\\users\\arnol\\onedrive\\documents\\school\\csm\\csm_project\\venv\\lib\\site-packages (from -r requirements.txt (line 18)) (0.1.7)\n",
      "Requirement already satisfied: nest-asyncio==1.6.0 in c:\\users\\arnol\\onedrive\\documents\\school\\csm\\csm_project\\venv\\lib\\site-packages (from -r requirements.txt (line 19)) (1.6.0)\n",
      "Requirement already satisfied: numpy==2.3.1 in c:\\users\\arnol\\onedrive\\documents\\school\\csm\\csm_project\\venv\\lib\\site-packages (from -r requirements.txt (line 20)) (2.3.1)\n",
      "Requirement already satisfied: packaging==25.0 in c:\\users\\arnol\\onedrive\\documents\\school\\csm\\csm_project\\venv\\lib\\site-packages (from -r requirements.txt (line 21)) (25.0)\n",
      "Requirement already satisfied: pandas==2.3.1 in c:\\users\\arnol\\onedrive\\documents\\school\\csm\\csm_project\\venv\\lib\\site-packages (from -r requirements.txt (line 22)) (2.3.1)\n",
      "Requirement already satisfied: parso==0.8.4 in c:\\users\\arnol\\onedrive\\documents\\school\\csm\\csm_project\\venv\\lib\\site-packages (from -r requirements.txt (line 23)) (0.8.4)\n",
      "Requirement already satisfied: pillow==11.3.0 in c:\\users\\arnol\\onedrive\\documents\\school\\csm\\csm_project\\venv\\lib\\site-packages (from -r requirements.txt (line 24)) (11.3.0)\n",
      "Requirement already satisfied: platformdirs==4.3.8 in c:\\users\\arnol\\onedrive\\documents\\school\\csm\\csm_project\\venv\\lib\\site-packages (from -r requirements.txt (line 25)) (4.3.8)\n",
      "Requirement already satisfied: prompt_toolkit==3.0.51 in c:\\users\\arnol\\onedrive\\documents\\school\\csm\\csm_project\\venv\\lib\\site-packages (from -r requirements.txt (line 26)) (3.0.51)\n",
      "Requirement already satisfied: psutil==7.0.0 in c:\\users\\arnol\\onedrive\\documents\\school\\csm\\csm_project\\venv\\lib\\site-packages (from -r requirements.txt (line 27)) (7.0.0)\n",
      "Requirement already satisfied: pure_eval==0.2.3 in c:\\users\\arnol\\onedrive\\documents\\school\\csm\\csm_project\\venv\\lib\\site-packages (from -r requirements.txt (line 28)) (0.2.3)\n",
      "Requirement already satisfied: Pygments==2.19.2 in c:\\users\\arnol\\onedrive\\documents\\school\\csm\\csm_project\\venv\\lib\\site-packages (from -r requirements.txt (line 29)) (2.19.2)\n",
      "Requirement already satisfied: pyparsing==3.2.3 in c:\\users\\arnol\\onedrive\\documents\\school\\csm\\csm_project\\venv\\lib\\site-packages (from -r requirements.txt (line 30)) (3.2.3)\n",
      "Requirement already satisfied: python-dateutil==2.9.0.post0 in c:\\users\\arnol\\onedrive\\documents\\school\\csm\\csm_project\\venv\\lib\\site-packages (from -r requirements.txt (line 31)) (2.9.0.post0)\n",
      "Requirement already satisfied: pytz==2025.2 in c:\\users\\arnol\\onedrive\\documents\\school\\csm\\csm_project\\venv\\lib\\site-packages (from -r requirements.txt (line 32)) (2025.2)\n",
      "Requirement already satisfied: pywin32==310 in c:\\users\\arnol\\onedrive\\documents\\school\\csm\\csm_project\\venv\\lib\\site-packages (from -r requirements.txt (line 33)) (310)\n",
      "Requirement already satisfied: pyzmq==27.0.0 in c:\\users\\arnol\\onedrive\\documents\\school\\csm\\csm_project\\venv\\lib\\site-packages (from -r requirements.txt (line 34)) (27.0.0)\n",
      "Requirement already satisfied: simpy==4.1.1 in c:\\users\\arnol\\onedrive\\documents\\school\\csm\\csm_project\\venv\\lib\\site-packages (from -r requirements.txt (line 35)) (4.1.1)\n",
      "Requirement already satisfied: six==1.17.0 in c:\\users\\arnol\\onedrive\\documents\\school\\csm\\csm_project\\venv\\lib\\site-packages (from -r requirements.txt (line 36)) (1.17.0)\n",
      "Requirement already satisfied: stack-data==0.6.3 in c:\\users\\arnol\\onedrive\\documents\\school\\csm\\csm_project\\venv\\lib\\site-packages (from -r requirements.txt (line 37)) (0.6.3)\n",
      "Requirement already satisfied: tornado==6.5.1 in c:\\users\\arnol\\onedrive\\documents\\school\\csm\\csm_project\\venv\\lib\\site-packages (from -r requirements.txt (line 38)) (6.5.1)\n",
      "Requirement already satisfied: traitlets==5.14.3 in c:\\users\\arnol\\onedrive\\documents\\school\\csm\\csm_project\\venv\\lib\\site-packages (from -r requirements.txt (line 39)) (5.14.3)\n",
      "Requirement already satisfied: tzdata==2025.2 in c:\\users\\arnol\\onedrive\\documents\\school\\csm\\csm_project\\venv\\lib\\site-packages (from -r requirements.txt (line 40)) (2025.2)\n",
      "Requirement already satisfied: wcwidth==0.2.13 in c:\\users\\arnol\\onedrive\\documents\\school\\csm\\csm_project\\venv\\lib\\site-packages (from -r requirements.txt (line 41)) (0.2.13)\n",
      "Note: you may need to restart the kernel to use updated packages.\n"
     ]
    }
   ],
   "source": [
    "pip install -r requirements.txt"
   ]
  },
  {
   "cell_type": "markdown",
   "id": "40666da1",
   "metadata": {},
   "source": [
    "## Code Implementation"
   ]
  },
  {
   "cell_type": "markdown",
   "id": "a5d3fc6c",
   "metadata": {},
   "source": [
    "Import the libraries"
   ]
  },
  {
   "cell_type": "code",
   "execution_count": 82,
   "id": "10d6f22a",
   "metadata": {},
   "outputs": [],
   "source": [
    "import simpy\n",
    "import random\n",
    "import pandas as pd\n",
    "import matplotlib.pyplot as plt"
   ]
  },
  {
   "cell_type": "markdown",
   "id": "476c520a",
   "metadata": {},
   "source": [
    "Create an array to store the arrival, service, service start, service end and wait times\n",
    "\n",
    "And arrays for idle time calculation"
   ]
  },
  {
   "cell_type": "code",
   "execution_count": 83,
   "id": "44f3cc3a",
   "metadata": {},
   "outputs": [],
   "source": [
    "simulation_data = [] # Store simulation data for each customer\n",
    "last_service_end = [0] # List to store service end time for the last customer\n",
    "total_idle_time = [0] # List to store total idle time for the server when new customer arrives"
   ]
  },
  {
   "cell_type": "markdown",
   "id": "1e384ff2",
   "metadata": {},
   "source": [
    "Created a function to simulate each individual customer"
   ]
  },
  {
   "cell_type": "code",
   "execution_count": 84,
   "id": "ce187d86",
   "metadata": {},
   "outputs": [],
   "source": [
    "def customer(env, name, counter, inter_arrival_time):\n",
    "    arrival_time = round(env.now, 2)\n",
    "\n",
    "    with counter.request() as req:\n",
    "        yield req\n",
    "        service_start_time = round(env.now, 2)\n",
    "        wait_time = round(env.now - arrival_time, 2)\n",
    "\n",
    "        # Calculate idle time if any\n",
    "        if service_start_time > last_service_end[0]:\n",
    "            idle = round(service_start_time - last_service_end[0], 2)\n",
    "            total_idle_time[0] += idle\n",
    "        else:\n",
    "            idle = 0\n",
    "\n",
    "        service_time = round(random.uniform(1, 6), 2)\n",
    "        yield env.timeout(service_time)\n",
    "\n",
    "        service_end_time = round(env.now, 2)\n",
    "        time_in_system = round(service_end_time - arrival_time, 2)\n",
    "\n",
    "        # Update last_service_end\n",
    "        last_service_end[0] = service_end_time\n",
    "\n",
    "        simulation_data.append({\n",
    "            'Customer': name,\n",
    "            'Inter-Arrival Time': inter_arrival_time,\n",
    "            'Arrival Time': arrival_time,\n",
    "            'Wait Time': wait_time,\n",
    "            'Service Time': service_time,\n",
    "            'Service Start Time': service_start_time,\n",
    "            'Service End Time': service_end_time,\n",
    "            'Time in System': time_in_system,\n",
    "            'Idle Time Before Service': idle\n",
    "        })"
   ]
  },
  {
   "cell_type": "markdown",
   "id": "c2ec35e5",
   "metadata": {},
   "source": [
    "Creating a function for Inter-Arrival Time (IAT) for a specific number of customers"
   ]
  },
  {
   "cell_type": "code",
   "execution_count": 85,
   "id": "439c73d2",
   "metadata": {},
   "outputs": [],
   "source": [
    "max_customers = 500"
   ]
  },
  {
   "cell_type": "code",
   "execution_count": 86,
   "id": "2d7f438b",
   "metadata": {},
   "outputs": [],
   "source": [
    "def IAT(env, counter):\n",
    "    current_customer = 0\n",
    "    while current_customer < max_customers:\n",
    "        # Generate inter-arrival time uniformly between 1 and 8 minutes\n",
    "        inter_arrival_time = random.uniform(1, 8)\n",
    "        # print(f'Inter-arrival time for customer {current_customer + 1}: {inter_arrival_time:.2f} minutes')\n",
    "        yield env.timeout(inter_arrival_time)\n",
    "        \n",
    "        # Create a new customer\n",
    "        current_customer += 1\n",
    "        \n",
    "        # Print and process the arrival of the customer\n",
    "        # print(f'{customer} arrives at {env.now:.2f} minutes')\n",
    "        env.process(customer(env, current_customer, counter, round(inter_arrival_time, 2)))"
   ]
  },
  {
   "cell_type": "markdown",
   "id": "294cc219",
   "metadata": {},
   "source": [
    "Setup environment and resource"
   ]
  },
  {
   "cell_type": "code",
   "execution_count": 87,
   "id": "4d584bb8",
   "metadata": {},
   "outputs": [],
   "source": [
    "env = simpy.Environment()\n",
    "counter = simpy.Resource(env, capacity=1)  # Single server since we are doing MM1"
   ]
  },
  {
   "cell_type": "markdown",
   "id": "666ac118",
   "metadata": {},
   "source": [
    "Start arrival process"
   ]
  },
  {
   "cell_type": "code",
   "execution_count": 88,
   "id": "e99bedca",
   "metadata": {},
   "outputs": [],
   "source": [
    "env.process(IAT(env, counter))  # Start the inter-arrival time process\n",
    "env.run()"
   ]
  },
  {
   "cell_type": "markdown",
   "id": "a3d18b0e",
   "metadata": {},
   "source": [
    "## Simulation Table"
   ]
  },
  {
   "cell_type": "markdown",
   "id": "6f60f712",
   "metadata": {},
   "source": [
    "Printing the simulation table using a dataframe"
   ]
  },
  {
   "cell_type": "code",
   "execution_count": 90,
   "id": "67219db3",
   "metadata": {},
   "outputs": [
    {
     "data": {
      "application/vnd.microsoft.datawrangler.viewer.v0+json": {
       "columns": [
        {
         "name": "index",
         "rawType": "int64",
         "type": "integer"
        },
        {
         "name": "Customer",
         "rawType": "int64",
         "type": "integer"
        },
        {
         "name": "Inter-Arrival Time",
         "rawType": "float64",
         "type": "float"
        },
        {
         "name": "Arrival Time",
         "rawType": "float64",
         "type": "float"
        },
        {
         "name": "Wait Time",
         "rawType": "float64",
         "type": "float"
        },
        {
         "name": "Service Time",
         "rawType": "float64",
         "type": "float"
        },
        {
         "name": "Service Start Time",
         "rawType": "float64",
         "type": "float"
        },
        {
         "name": "Service End Time",
         "rawType": "float64",
         "type": "float"
        },
        {
         "name": "Time in System",
         "rawType": "float64",
         "type": "float"
        },
        {
         "name": "Idle Time Before Service",
         "rawType": "float64",
         "type": "float"
        }
       ],
       "ref": "6dccdaf9-cf22-4aa9-a969-6cdad2da2be9",
       "rows": [
        [
         "0",
         "1",
         "3.32",
         "3.32",
         "-0.0",
         "5.9",
         "3.32",
         "9.22",
         "5.9",
         "3.32"
        ],
        [
         "1",
         "2",
         "5.59",
         "8.91",
         "0.31",
         "3.4",
         "9.22",
         "12.62",
         "3.71",
         "0.0"
        ],
        [
         "2",
         "3",
         "4.16",
         "13.08",
         "-0.0",
         "1.37",
         "13.08",
         "14.45",
         "1.37",
         "0.46"
        ],
        [
         "3",
         "4",
         "4.52",
         "17.59",
         "0.0",
         "1.06",
         "17.59",
         "18.65",
         "1.06",
         "3.14"
        ],
        [
         "4",
         "5",
         "8.0",
         "25.59",
         "0.0",
         "3.53",
         "25.59",
         "29.12",
         "3.53",
         "6.94"
        ],
        [
         "5",
         "6",
         "6.28",
         "31.87",
         "-0.0",
         "3.59",
         "31.87",
         "35.46",
         "3.59",
         "2.75"
        ],
        [
         "6",
         "7",
         "4.29",
         "36.16",
         "0.0",
         "2.83",
         "36.16",
         "38.99",
         "2.83",
         "0.7"
        ],
        [
         "7",
         "8",
         "1.13",
         "37.3",
         "1.69",
         "1.04",
         "38.99",
         "40.03",
         "2.73",
         "0.0"
        ],
        [
         "8",
         "9",
         "7.93",
         "45.22",
         "0.0",
         "1.29",
         "45.22",
         "46.51",
         "1.29",
         "5.19"
        ],
        [
         "9",
         "10",
         "1.01",
         "46.23",
         "0.28",
         "2.26",
         "46.51",
         "48.77",
         "2.54",
         "0.0"
        ]
       ],
       "shape": {
        "columns": 9,
        "rows": 10
       }
      },
      "text/html": [
       "<div>\n",
       "<style scoped>\n",
       "    .dataframe tbody tr th:only-of-type {\n",
       "        vertical-align: middle;\n",
       "    }\n",
       "\n",
       "    .dataframe tbody tr th {\n",
       "        vertical-align: top;\n",
       "    }\n",
       "\n",
       "    .dataframe thead th {\n",
       "        text-align: right;\n",
       "    }\n",
       "</style>\n",
       "<table border=\"1\" class=\"dataframe\">\n",
       "  <thead>\n",
       "    <tr style=\"text-align: right;\">\n",
       "      <th></th>\n",
       "      <th>Customer</th>\n",
       "      <th>Inter-Arrival Time</th>\n",
       "      <th>Arrival Time</th>\n",
       "      <th>Wait Time</th>\n",
       "      <th>Service Time</th>\n",
       "      <th>Service Start Time</th>\n",
       "      <th>Service End Time</th>\n",
       "      <th>Time in System</th>\n",
       "      <th>Idle Time Before Service</th>\n",
       "    </tr>\n",
       "  </thead>\n",
       "  <tbody>\n",
       "    <tr>\n",
       "      <th>0</th>\n",
       "      <td>1</td>\n",
       "      <td>3.32</td>\n",
       "      <td>3.32</td>\n",
       "      <td>-0.00</td>\n",
       "      <td>5.90</td>\n",
       "      <td>3.32</td>\n",
       "      <td>9.22</td>\n",
       "      <td>5.90</td>\n",
       "      <td>3.32</td>\n",
       "    </tr>\n",
       "    <tr>\n",
       "      <th>1</th>\n",
       "      <td>2</td>\n",
       "      <td>5.59</td>\n",
       "      <td>8.91</td>\n",
       "      <td>0.31</td>\n",
       "      <td>3.40</td>\n",
       "      <td>9.22</td>\n",
       "      <td>12.62</td>\n",
       "      <td>3.71</td>\n",
       "      <td>0.00</td>\n",
       "    </tr>\n",
       "    <tr>\n",
       "      <th>2</th>\n",
       "      <td>3</td>\n",
       "      <td>4.16</td>\n",
       "      <td>13.08</td>\n",
       "      <td>-0.00</td>\n",
       "      <td>1.37</td>\n",
       "      <td>13.08</td>\n",
       "      <td>14.45</td>\n",
       "      <td>1.37</td>\n",
       "      <td>0.46</td>\n",
       "    </tr>\n",
       "    <tr>\n",
       "      <th>3</th>\n",
       "      <td>4</td>\n",
       "      <td>4.52</td>\n",
       "      <td>17.59</td>\n",
       "      <td>0.00</td>\n",
       "      <td>1.06</td>\n",
       "      <td>17.59</td>\n",
       "      <td>18.65</td>\n",
       "      <td>1.06</td>\n",
       "      <td>3.14</td>\n",
       "    </tr>\n",
       "    <tr>\n",
       "      <th>4</th>\n",
       "      <td>5</td>\n",
       "      <td>8.00</td>\n",
       "      <td>25.59</td>\n",
       "      <td>0.00</td>\n",
       "      <td>3.53</td>\n",
       "      <td>25.59</td>\n",
       "      <td>29.12</td>\n",
       "      <td>3.53</td>\n",
       "      <td>6.94</td>\n",
       "    </tr>\n",
       "    <tr>\n",
       "      <th>5</th>\n",
       "      <td>6</td>\n",
       "      <td>6.28</td>\n",
       "      <td>31.87</td>\n",
       "      <td>-0.00</td>\n",
       "      <td>3.59</td>\n",
       "      <td>31.87</td>\n",
       "      <td>35.46</td>\n",
       "      <td>3.59</td>\n",
       "      <td>2.75</td>\n",
       "    </tr>\n",
       "    <tr>\n",
       "      <th>6</th>\n",
       "      <td>7</td>\n",
       "      <td>4.29</td>\n",
       "      <td>36.16</td>\n",
       "      <td>0.00</td>\n",
       "      <td>2.83</td>\n",
       "      <td>36.16</td>\n",
       "      <td>38.99</td>\n",
       "      <td>2.83</td>\n",
       "      <td>0.70</td>\n",
       "    </tr>\n",
       "    <tr>\n",
       "      <th>7</th>\n",
       "      <td>8</td>\n",
       "      <td>1.13</td>\n",
       "      <td>37.30</td>\n",
       "      <td>1.69</td>\n",
       "      <td>1.04</td>\n",
       "      <td>38.99</td>\n",
       "      <td>40.03</td>\n",
       "      <td>2.73</td>\n",
       "      <td>0.00</td>\n",
       "    </tr>\n",
       "    <tr>\n",
       "      <th>8</th>\n",
       "      <td>9</td>\n",
       "      <td>7.93</td>\n",
       "      <td>45.22</td>\n",
       "      <td>0.00</td>\n",
       "      <td>1.29</td>\n",
       "      <td>45.22</td>\n",
       "      <td>46.51</td>\n",
       "      <td>1.29</td>\n",
       "      <td>5.19</td>\n",
       "    </tr>\n",
       "    <tr>\n",
       "      <th>9</th>\n",
       "      <td>10</td>\n",
       "      <td>1.01</td>\n",
       "      <td>46.23</td>\n",
       "      <td>0.28</td>\n",
       "      <td>2.26</td>\n",
       "      <td>46.51</td>\n",
       "      <td>48.77</td>\n",
       "      <td>2.54</td>\n",
       "      <td>0.00</td>\n",
       "    </tr>\n",
       "  </tbody>\n",
       "</table>\n",
       "</div>"
      ],
      "text/plain": [
       "   Customer  Inter-Arrival Time  Arrival Time  Wait Time  Service Time  \\\n",
       "0         1                3.32          3.32      -0.00          5.90   \n",
       "1         2                5.59          8.91       0.31          3.40   \n",
       "2         3                4.16         13.08      -0.00          1.37   \n",
       "3         4                4.52         17.59       0.00          1.06   \n",
       "4         5                8.00         25.59       0.00          3.53   \n",
       "5         6                6.28         31.87      -0.00          3.59   \n",
       "6         7                4.29         36.16       0.00          2.83   \n",
       "7         8                1.13         37.30       1.69          1.04   \n",
       "8         9                7.93         45.22       0.00          1.29   \n",
       "9        10                1.01         46.23       0.28          2.26   \n",
       "\n",
       "   Service Start Time  Service End Time  Time in System  \\\n",
       "0                3.32              9.22            5.90   \n",
       "1                9.22             12.62            3.71   \n",
       "2               13.08             14.45            1.37   \n",
       "3               17.59             18.65            1.06   \n",
       "4               25.59             29.12            3.53   \n",
       "5               31.87             35.46            3.59   \n",
       "6               36.16             38.99            2.83   \n",
       "7               38.99             40.03            2.73   \n",
       "8               45.22             46.51            1.29   \n",
       "9               46.51             48.77            2.54   \n",
       "\n",
       "   Idle Time Before Service  \n",
       "0                      3.32  \n",
       "1                      0.00  \n",
       "2                      0.46  \n",
       "3                      3.14  \n",
       "4                      6.94  \n",
       "5                      2.75  \n",
       "6                      0.70  \n",
       "7                      0.00  \n",
       "8                      5.19  \n",
       "9                      0.00  "
      ]
     },
     "execution_count": 90,
     "metadata": {},
     "output_type": "execute_result"
    }
   ],
   "source": [
    "df = pd.DataFrame(simulation_data)\n",
    "df.to_csv('Simulation_Results.csv', index=False)\n",
    "df.head(10)"
   ]
  },
  {
   "cell_type": "markdown",
   "id": "f0f24951",
   "metadata": {},
   "source": [
    "## Visualizations"
   ]
  },
  {
   "cell_type": "code",
   "execution_count": null,
   "id": "b1528f8f",
   "metadata": {},
   "outputs": [],
   "source": []
  }
 ],
 "metadata": {
  "kernelspec": {
   "display_name": "venv",
   "language": "python",
   "name": "python3"
  },
  "language_info": {
   "codemirror_mode": {
    "name": "ipython",
    "version": 3
   },
   "file_extension": ".py",
   "mimetype": "text/x-python",
   "name": "python",
   "nbconvert_exporter": "python",
   "pygments_lexer": "ipython3",
   "version": "3.13.5"
  }
 },
 "nbformat": 4,
 "nbformat_minor": 5
}
