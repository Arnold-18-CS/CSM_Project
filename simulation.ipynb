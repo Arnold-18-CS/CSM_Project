{
 "cells": [
  {
   "cell_type": "markdown",
   "id": "44eec395",
   "metadata": {},
   "source": [
    "# CSM Simulation Groupwork Project"
   ]
  },
  {
   "cell_type": "markdown",
   "id": "9e5fe33e",
   "metadata": {},
   "source": [
    "A bank operates with a single service counter. Customers arrive randomly and are served on a first-come, first-served basis. You are required to simulate this system using Python.\n",
    "\n",
    "## Assumptions\n",
    "- Inter-arrival times of customers are uniformly distributed between 1 and 8 minutes.\n",
    "- Service times are uniformly distributed between 1 and 6 minutes.\n",
    "- There is only one server (single-server queue).\n",
    "- The queuing discipline is FIFO (First-In, First-Out).\n",
    "\n",
    "## Task\n",
    "Your group is expected to:\n",
    "1. Generate inter-arrival and service times for 500 customers using the specified uniform\n",
    "distributions.\n",
    "2. Implement a Python simulation of the system using a discrete-event simulation approach.\n",
    "3. Compute and report performance metrics.\n",
    "4. Produce relevant visualizations."
   ]
  },
  {
   "cell_type": "markdown",
   "id": "0660a5a2",
   "metadata": {
    "vscode": {
     "languageId": "powershell"
    }
   },
   "source": [
    "## Setup\n",
    "Create an environment and activate by running\n",
    " ```bash\n",
    " python -m venv venv\n",
    " venv\\Scripts\\activate\n",
    " pip install ipykernel\n",
    " ```\n",
    "\n",
    "Then install the packages by running the command below:"
   ]
  },
  {
   "cell_type": "code",
   "execution_count": 71,
   "id": "6238864d",
   "metadata": {
    "vscode": {
     "languageId": "powershell"
    }
   },
   "outputs": [
    {
     "name": "stdout",
     "output_type": "stream",
     "text": [
      "Requirement already satisfied: asttokens==3.0.0 in c:\\users\\arnol\\onedrive\\documents\\school\\csm\\csm_project\\venv\\lib\\site-packages (from -r requirements.txt (line 1)) (3.0.0)\n",
      "Requirement already satisfied: colorama==0.4.6 in c:\\users\\arnol\\onedrive\\documents\\school\\csm\\csm_project\\venv\\lib\\site-packages (from -r requirements.txt (line 2)) (0.4.6)\n",
      "Requirement already satisfied: comm==0.2.2 in c:\\users\\arnol\\onedrive\\documents\\school\\csm\\csm_project\\venv\\lib\\site-packages (from -r requirements.txt (line 3)) (0.2.2)\n",
      "Requirement already satisfied: debugpy==1.8.14 in c:\\users\\arnol\\onedrive\\documents\\school\\csm\\csm_project\\venv\\lib\\site-packages (from -r requirements.txt (line 4)) (1.8.14)\n",
      "Requirement already satisfied: decorator==5.2.1 in c:\\users\\arnol\\onedrive\\documents\\school\\csm\\csm_project\\venv\\lib\\site-packages (from -r requirements.txt (line 5)) (5.2.1)\n",
      "Requirement already satisfied: executing==2.2.0 in c:\\users\\arnol\\onedrive\\documents\\school\\csm\\csm_project\\venv\\lib\\site-packages (from -r requirements.txt (line 6)) (2.2.0)\n",
      "Requirement already satisfied: ipykernel==6.29.5 in c:\\users\\arnol\\onedrive\\documents\\school\\csm\\csm_project\\venv\\lib\\site-packages (from -r requirements.txt (line 7)) (6.29.5)\n",
      "Requirement already satisfied: ipython==9.4.0 in c:\\users\\arnol\\onedrive\\documents\\school\\csm\\csm_project\\venv\\lib\\site-packages (from -r requirements.txt (line 8)) (9.4.0)\n",
      "Requirement already satisfied: ipython_pygments_lexers==1.1.1 in c:\\users\\arnol\\onedrive\\documents\\school\\csm\\csm_project\\venv\\lib\\site-packages (from -r requirements.txt (line 9)) (1.1.1)\n",
      "Requirement already satisfied: jedi==0.19.2 in c:\\users\\arnol\\onedrive\\documents\\school\\csm\\csm_project\\venv\\lib\\site-packages (from -r requirements.txt (line 10)) (0.19.2)\n",
      "Requirement already satisfied: jupyter_client==8.6.3 in c:\\users\\arnol\\onedrive\\documents\\school\\csm\\csm_project\\venv\\lib\\site-packages (from -r requirements.txt (line 11)) (8.6.3)\n",
      "Requirement already satisfied: jupyter_core==5.8.1 in c:\\users\\arnol\\onedrive\\documents\\school\\csm\\csm_project\\venv\\lib\\site-packages (from -r requirements.txt (line 12)) (5.8.1)\n",
      "Requirement already satisfied: matplotlib-inline==0.1.7 in c:\\users\\arnol\\onedrive\\documents\\school\\csm\\csm_project\\venv\\lib\\site-packages (from -r requirements.txt (line 13)) (0.1.7)\n",
      "Requirement already satisfied: nest-asyncio==1.6.0 in c:\\users\\arnol\\onedrive\\documents\\school\\csm\\csm_project\\venv\\lib\\site-packages (from -r requirements.txt (line 14)) (1.6.0)\n",
      "Requirement already satisfied: packaging==25.0 in c:\\users\\arnol\\onedrive\\documents\\school\\csm\\csm_project\\venv\\lib\\site-packages (from -r requirements.txt (line 15)) (25.0)\n",
      "Requirement already satisfied: parso==0.8.4 in c:\\users\\arnol\\onedrive\\documents\\school\\csm\\csm_project\\venv\\lib\\site-packages (from -r requirements.txt (line 16)) (0.8.4)\n",
      "Requirement already satisfied: platformdirs==4.3.8 in c:\\users\\arnol\\onedrive\\documents\\school\\csm\\csm_project\\venv\\lib\\site-packages (from -r requirements.txt (line 17)) (4.3.8)\n",
      "Requirement already satisfied: prompt_toolkit==3.0.51 in c:\\users\\arnol\\onedrive\\documents\\school\\csm\\csm_project\\venv\\lib\\site-packages (from -r requirements.txt (line 18)) (3.0.51)\n",
      "Requirement already satisfied: psutil==7.0.0 in c:\\users\\arnol\\onedrive\\documents\\school\\csm\\csm_project\\venv\\lib\\site-packages (from -r requirements.txt (line 19)) (7.0.0)\n",
      "Requirement already satisfied: pure_eval==0.2.3 in c:\\users\\arnol\\onedrive\\documents\\school\\csm\\csm_project\\venv\\lib\\site-packages (from -r requirements.txt (line 20)) (0.2.3)\n",
      "Requirement already satisfied: Pygments==2.19.2 in c:\\users\\arnol\\onedrive\\documents\\school\\csm\\csm_project\\venv\\lib\\site-packages (from -r requirements.txt (line 21)) (2.19.2)\n",
      "Requirement already satisfied: python-dateutil==2.9.0.post0 in c:\\users\\arnol\\onedrive\\documents\\school\\csm\\csm_project\\venv\\lib\\site-packages (from -r requirements.txt (line 22)) (2.9.0.post0)\n",
      "Requirement already satisfied: pywin32==310 in c:\\users\\arnol\\onedrive\\documents\\school\\csm\\csm_project\\venv\\lib\\site-packages (from -r requirements.txt (line 23)) (310)\n",
      "Requirement already satisfied: pyzmq==27.0.0 in c:\\users\\arnol\\onedrive\\documents\\school\\csm\\csm_project\\venv\\lib\\site-packages (from -r requirements.txt (line 24)) (27.0.0)\n",
      "Requirement already satisfied: simpy==4.1.1 in c:\\users\\arnol\\onedrive\\documents\\school\\csm\\csm_project\\venv\\lib\\site-packages (from -r requirements.txt (line 25)) (4.1.1)\n",
      "Requirement already satisfied: six==1.17.0 in c:\\users\\arnol\\onedrive\\documents\\school\\csm\\csm_project\\venv\\lib\\site-packages (from -r requirements.txt (line 26)) (1.17.0)\n",
      "Requirement already satisfied: stack-data==0.6.3 in c:\\users\\arnol\\onedrive\\documents\\school\\csm\\csm_project\\venv\\lib\\site-packages (from -r requirements.txt (line 27)) (0.6.3)\n",
      "Requirement already satisfied: tornado==6.5.1 in c:\\users\\arnol\\onedrive\\documents\\school\\csm\\csm_project\\venv\\lib\\site-packages (from -r requirements.txt (line 28)) (6.5.1)\n",
      "Requirement already satisfied: traitlets==5.14.3 in c:\\users\\arnol\\onedrive\\documents\\school\\csm\\csm_project\\venv\\lib\\site-packages (from -r requirements.txt (line 29)) (5.14.3)\n",
      "Requirement already satisfied: wcwidth==0.2.13 in c:\\users\\arnol\\onedrive\\documents\\school\\csm\\csm_project\\venv\\lib\\site-packages (from -r requirements.txt (line 30)) (0.2.13)\n",
      "Note: you may need to restart the kernel to use updated packages.\n"
     ]
    }
   ],
   "source": [
    "pip install -r requirements.txt"
   ]
  },
  {
   "cell_type": "markdown",
   "id": "40666da1",
   "metadata": {},
   "source": [
    "## Code Implementation"
   ]
  },
  {
   "cell_type": "markdown",
   "id": "a5d3fc6c",
   "metadata": {},
   "source": [
    "Import the libraries"
   ]
  },
  {
   "cell_type": "code",
   "execution_count": null,
   "id": "10d6f22a",
   "metadata": {},
   "outputs": [],
   "source": [
    "import simpy\n",
    "import random\n",
    "import pandas as pd\n",
    "import matplotlib.pyplot as plt"
   ]
  },
  {
   "cell_type": "markdown",
   "id": "476c520a",
   "metadata": {},
   "source": [
    "Create an array to store the arrival, service, service start, service end and wait times\n",
    "\n",
    "And arrays for idle time calculation"
   ]
  },
  {
   "cell_type": "code",
   "execution_count": 73,
   "id": "44f3cc3a",
   "metadata": {},
   "outputs": [],
   "source": [
    "simulation_data = [] # Store simulation data for each customer\n",
    "last_service_end = [0] # List to store service end time for the last customer\n",
    "total_idle_time = [0] # List to store total idle time for the server when new customer arrives"
   ]
  },
  {
   "cell_type": "markdown",
   "id": "1e384ff2",
   "metadata": {},
   "source": [
    "Created a function to simulate each individual customer"
   ]
  },
  {
   "cell_type": "code",
   "execution_count": 74,
   "id": "ce187d86",
   "metadata": {},
   "outputs": [],
   "source": [
    "def customer(env, name, counter, inter_arrival_time):\n",
    "    arrival_time = round(env.now, 2)\n",
    "\n",
    "    with counter.request() as req:\n",
    "        yield req\n",
    "        service_start_time = round(env.now, 2)\n",
    "        wait_time = round(env.now - arrival_time, 2)\n",
    "\n",
    "        # Calculate idle time if any\n",
    "        if service_start_time > last_service_end[0]:\n",
    "            idle = round(service_start_time - last_service_end[0], 2)\n",
    "            total_idle_time[0] += idle\n",
    "        else:\n",
    "            idle = 0\n",
    "\n",
    "        service_time = round(random.uniform(1, 6), 2)\n",
    "        yield env.timeout(service_time)\n",
    "\n",
    "        service_end_time = round(env.now, 2)\n",
    "        time_in_system = round(service_end_time - arrival_time, 2)\n",
    "\n",
    "        # Update last_service_end\n",
    "        last_service_end[0] = service_end_time\n",
    "\n",
    "        simulation_data.append({\n",
    "            'Customer': name,\n",
    "            'Inter-Arrival Time': inter_arrival_time,\n",
    "            'Arrival Time': arrival_time,\n",
    "            'Wait Time': wait_time,\n",
    "            'Service Time': service_time,\n",
    "            'Service Start Time': service_start_time,\n",
    "            'Service End Time': service_end_time,\n",
    "            'Time in System': time_in_system,\n",
    "            'Idle Time Before Service': idle\n",
    "        })"
   ]
  },
  {
   "cell_type": "markdown",
   "id": "c2ec35e5",
   "metadata": {},
   "source": [
    "Creating a function for Inter-Arrival Time (IAT) for a specific number of customers"
   ]
  },
  {
   "cell_type": "code",
   "execution_count": 75,
   "id": "439c73d2",
   "metadata": {},
   "outputs": [],
   "source": [
    "max_customers = 500"
   ]
  },
  {
   "cell_type": "code",
   "execution_count": 76,
   "id": "2d7f438b",
   "metadata": {},
   "outputs": [],
   "source": [
    "def IAT(env, counter):\n",
    "    current_customer = 0\n",
    "    while current_customer < max_customers:\n",
    "        # Generate inter-arrival time uniformly between 1 and 8 minutes\n",
    "        inter_arrival_time = random.uniform(1, 8)\n",
    "        # print(f'Inter-arrival time for customer {current_customer + 1}: {inter_arrival_time:.2f} minutes')\n",
    "        yield env.timeout(inter_arrival_time)\n",
    "        \n",
    "        # Create a new customer\n",
    "        current_customer += 1\n",
    "        \n",
    "        # Print and process the arrival of the customer\n",
    "        # print(f'{customer} arrives at {env.now:.2f} minutes')\n",
    "        env.process(customer(env, current_customer, counter, round(inter_arrival_time, 2)))"
   ]
  },
  {
   "cell_type": "markdown",
   "id": "294cc219",
   "metadata": {},
   "source": [
    "Setup environment and resource"
   ]
  },
  {
   "cell_type": "code",
   "execution_count": 77,
   "id": "4d584bb8",
   "metadata": {},
   "outputs": [],
   "source": [
    "env = simpy.Environment()\n",
    "counter = simpy.Resource(env, capacity=1)  # Single server since we are doing MM1"
   ]
  },
  {
   "cell_type": "markdown",
   "id": "666ac118",
   "metadata": {},
   "source": [
    "Start arrival process"
   ]
  },
  {
   "cell_type": "code",
   "execution_count": 78,
   "id": "e99bedca",
   "metadata": {},
   "outputs": [],
   "source": [
    "env.process(IAT(env, counter))  # Start the inter-arrival time process\n",
    "env.run()"
   ]
  },
  {
   "cell_type": "markdown",
   "id": "a3d18b0e",
   "metadata": {},
   "source": [
    "## Simulation Table"
   ]
  },
  {
   "cell_type": "markdown",
   "id": "6f60f712",
   "metadata": {},
   "source": [
    "Printing the simulation table using a dataframe"
   ]
  },
  {
   "cell_type": "code",
   "execution_count": 80,
   "id": "67219db3",
   "metadata": {},
   "outputs": [
    {
     "data": {
      "application/vnd.microsoft.datawrangler.viewer.v0+json": {
       "columns": [
        {
         "name": "index",
         "rawType": "int64",
         "type": "integer"
        },
        {
         "name": "Customer",
         "rawType": "int64",
         "type": "integer"
        },
        {
         "name": "Inter-Arrival Time",
         "rawType": "float64",
         "type": "float"
        },
        {
         "name": "Arrival Time",
         "rawType": "float64",
         "type": "float"
        },
        {
         "name": "Wait Time",
         "rawType": "float64",
         "type": "float"
        },
        {
         "name": "Service Time",
         "rawType": "float64",
         "type": "float"
        },
        {
         "name": "Service Start Time",
         "rawType": "float64",
         "type": "float"
        },
        {
         "name": "Service End Time",
         "rawType": "float64",
         "type": "float"
        },
        {
         "name": "Time in System",
         "rawType": "float64",
         "type": "float"
        },
        {
         "name": "Idle Time Before Service",
         "rawType": "float64",
         "type": "float"
        }
       ],
       "ref": "4a6cf70a-6da3-4181-99cc-1473f9a75ff8",
       "rows": [
        [
         "0",
         "1",
         "4.51",
         "4.51",
         "-0.0",
         "2.36",
         "4.51",
         "6.87",
         "2.36",
         "4.51"
        ],
        [
         "1",
         "2",
         "2.27",
         "6.78",
         "0.09",
         "4.53",
         "6.87",
         "11.4",
         "4.62",
         "0.0"
        ],
        [
         "2",
         "3",
         "3.56",
         "10.34",
         "1.06",
         "4.71",
         "11.4",
         "16.11",
         "5.77",
         "0.0"
        ],
        [
         "3",
         "4",
         "7.04",
         "17.37",
         "0.0",
         "4.92",
         "17.37",
         "22.29",
         "4.92",
         "1.26"
        ],
        [
         "4",
         "5",
         "4.27",
         "21.64",
         "0.65",
         "5.67",
         "22.29",
         "27.96",
         "6.32",
         "0.0"
        ],
        [
         "5",
         "6",
         "3.4",
         "25.04",
         "2.92",
         "1.97",
         "27.96",
         "29.93",
         "4.89",
         "0.0"
        ],
        [
         "6",
         "7",
         "2.86",
         "27.9",
         "2.03",
         "1.24",
         "29.93",
         "31.17",
         "3.27",
         "0.0"
        ],
        [
         "7",
         "8",
         "5.71",
         "33.61",
         "0.0",
         "1.76",
         "33.61",
         "35.37",
         "1.76",
         "2.44"
        ],
        [
         "8",
         "9",
         "6.74",
         "40.35",
         "0.0",
         "2.44",
         "40.35",
         "42.79",
         "2.44",
         "4.98"
        ],
        [
         "9",
         "10",
         "6.24",
         "46.59",
         "-0.0",
         "4.33",
         "46.59",
         "50.92",
         "4.33",
         "3.8"
        ]
       ],
       "shape": {
        "columns": 9,
        "rows": 10
       }
      },
      "text/html": [
       "<div>\n",
       "<style scoped>\n",
       "    .dataframe tbody tr th:only-of-type {\n",
       "        vertical-align: middle;\n",
       "    }\n",
       "\n",
       "    .dataframe tbody tr th {\n",
       "        vertical-align: top;\n",
       "    }\n",
       "\n",
       "    .dataframe thead th {\n",
       "        text-align: right;\n",
       "    }\n",
       "</style>\n",
       "<table border=\"1\" class=\"dataframe\">\n",
       "  <thead>\n",
       "    <tr style=\"text-align: right;\">\n",
       "      <th></th>\n",
       "      <th>Customer</th>\n",
       "      <th>Inter-Arrival Time</th>\n",
       "      <th>Arrival Time</th>\n",
       "      <th>Wait Time</th>\n",
       "      <th>Service Time</th>\n",
       "      <th>Service Start Time</th>\n",
       "      <th>Service End Time</th>\n",
       "      <th>Time in System</th>\n",
       "      <th>Idle Time Before Service</th>\n",
       "    </tr>\n",
       "  </thead>\n",
       "  <tbody>\n",
       "    <tr>\n",
       "      <th>0</th>\n",
       "      <td>1</td>\n",
       "      <td>4.51</td>\n",
       "      <td>4.51</td>\n",
       "      <td>-0.00</td>\n",
       "      <td>2.36</td>\n",
       "      <td>4.51</td>\n",
       "      <td>6.87</td>\n",
       "      <td>2.36</td>\n",
       "      <td>4.51</td>\n",
       "    </tr>\n",
       "    <tr>\n",
       "      <th>1</th>\n",
       "      <td>2</td>\n",
       "      <td>2.27</td>\n",
       "      <td>6.78</td>\n",
       "      <td>0.09</td>\n",
       "      <td>4.53</td>\n",
       "      <td>6.87</td>\n",
       "      <td>11.40</td>\n",
       "      <td>4.62</td>\n",
       "      <td>0.00</td>\n",
       "    </tr>\n",
       "    <tr>\n",
       "      <th>2</th>\n",
       "      <td>3</td>\n",
       "      <td>3.56</td>\n",
       "      <td>10.34</td>\n",
       "      <td>1.06</td>\n",
       "      <td>4.71</td>\n",
       "      <td>11.40</td>\n",
       "      <td>16.11</td>\n",
       "      <td>5.77</td>\n",
       "      <td>0.00</td>\n",
       "    </tr>\n",
       "    <tr>\n",
       "      <th>3</th>\n",
       "      <td>4</td>\n",
       "      <td>7.04</td>\n",
       "      <td>17.37</td>\n",
       "      <td>0.00</td>\n",
       "      <td>4.92</td>\n",
       "      <td>17.37</td>\n",
       "      <td>22.29</td>\n",
       "      <td>4.92</td>\n",
       "      <td>1.26</td>\n",
       "    </tr>\n",
       "    <tr>\n",
       "      <th>4</th>\n",
       "      <td>5</td>\n",
       "      <td>4.27</td>\n",
       "      <td>21.64</td>\n",
       "      <td>0.65</td>\n",
       "      <td>5.67</td>\n",
       "      <td>22.29</td>\n",
       "      <td>27.96</td>\n",
       "      <td>6.32</td>\n",
       "      <td>0.00</td>\n",
       "    </tr>\n",
       "    <tr>\n",
       "      <th>5</th>\n",
       "      <td>6</td>\n",
       "      <td>3.40</td>\n",
       "      <td>25.04</td>\n",
       "      <td>2.92</td>\n",
       "      <td>1.97</td>\n",
       "      <td>27.96</td>\n",
       "      <td>29.93</td>\n",
       "      <td>4.89</td>\n",
       "      <td>0.00</td>\n",
       "    </tr>\n",
       "    <tr>\n",
       "      <th>6</th>\n",
       "      <td>7</td>\n",
       "      <td>2.86</td>\n",
       "      <td>27.90</td>\n",
       "      <td>2.03</td>\n",
       "      <td>1.24</td>\n",
       "      <td>29.93</td>\n",
       "      <td>31.17</td>\n",
       "      <td>3.27</td>\n",
       "      <td>0.00</td>\n",
       "    </tr>\n",
       "    <tr>\n",
       "      <th>7</th>\n",
       "      <td>8</td>\n",
       "      <td>5.71</td>\n",
       "      <td>33.61</td>\n",
       "      <td>0.00</td>\n",
       "      <td>1.76</td>\n",
       "      <td>33.61</td>\n",
       "      <td>35.37</td>\n",
       "      <td>1.76</td>\n",
       "      <td>2.44</td>\n",
       "    </tr>\n",
       "    <tr>\n",
       "      <th>8</th>\n",
       "      <td>9</td>\n",
       "      <td>6.74</td>\n",
       "      <td>40.35</td>\n",
       "      <td>0.00</td>\n",
       "      <td>2.44</td>\n",
       "      <td>40.35</td>\n",
       "      <td>42.79</td>\n",
       "      <td>2.44</td>\n",
       "      <td>4.98</td>\n",
       "    </tr>\n",
       "    <tr>\n",
       "      <th>9</th>\n",
       "      <td>10</td>\n",
       "      <td>6.24</td>\n",
       "      <td>46.59</td>\n",
       "      <td>-0.00</td>\n",
       "      <td>4.33</td>\n",
       "      <td>46.59</td>\n",
       "      <td>50.92</td>\n",
       "      <td>4.33</td>\n",
       "      <td>3.80</td>\n",
       "    </tr>\n",
       "  </tbody>\n",
       "</table>\n",
       "</div>"
      ],
      "text/plain": [
       "   Customer  Inter-Arrival Time  Arrival Time  Wait Time  Service Time  \\\n",
       "0         1                4.51          4.51      -0.00          2.36   \n",
       "1         2                2.27          6.78       0.09          4.53   \n",
       "2         3                3.56         10.34       1.06          4.71   \n",
       "3         4                7.04         17.37       0.00          4.92   \n",
       "4         5                4.27         21.64       0.65          5.67   \n",
       "5         6                3.40         25.04       2.92          1.97   \n",
       "6         7                2.86         27.90       2.03          1.24   \n",
       "7         8                5.71         33.61       0.00          1.76   \n",
       "8         9                6.74         40.35       0.00          2.44   \n",
       "9        10                6.24         46.59      -0.00          4.33   \n",
       "\n",
       "   Service Start Time  Service End Time  Time in System  \\\n",
       "0                4.51              6.87            2.36   \n",
       "1                6.87             11.40            4.62   \n",
       "2               11.40             16.11            5.77   \n",
       "3               17.37             22.29            4.92   \n",
       "4               22.29             27.96            6.32   \n",
       "5               27.96             29.93            4.89   \n",
       "6               29.93             31.17            3.27   \n",
       "7               33.61             35.37            1.76   \n",
       "8               40.35             42.79            2.44   \n",
       "9               46.59             50.92            4.33   \n",
       "\n",
       "   Idle Time Before Service  \n",
       "0                      4.51  \n",
       "1                      0.00  \n",
       "2                      0.00  \n",
       "3                      1.26  \n",
       "4                      0.00  \n",
       "5                      0.00  \n",
       "6                      0.00  \n",
       "7                      2.44  \n",
       "8                      4.98  \n",
       "9                      3.80  "
      ]
     },
     "execution_count": 80,
     "metadata": {},
     "output_type": "execute_result"
    }
   ],
   "source": [
    "df = pd.DataFrame(simulation_data)\n",
    "df.head(10)"
   ]
  }
 ],
 "metadata": {
  "kernelspec": {
   "display_name": "venv",
   "language": "python",
   "name": "python3"
  },
  "language_info": {
   "codemirror_mode": {
    "name": "ipython",
    "version": 3
   },
   "file_extension": ".py",
   "mimetype": "text/x-python",
   "name": "python",
   "nbconvert_exporter": "python",
   "pygments_lexer": "ipython3",
   "version": "3.13.5"
  }
 },
 "nbformat": 4,
 "nbformat_minor": 5
}
